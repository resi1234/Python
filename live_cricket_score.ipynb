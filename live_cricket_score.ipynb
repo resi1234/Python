{
 "cells": [
  {
   "cell_type": "code",
   "execution_count": 40,
   "metadata": {},
   "outputs": [],
   "source": [
    "import requests\n",
    "import urllib.request\n",
    "import time\n",
    "from bs4 import BeautifulSoup\n",
    "import matplotlib.pyplot as plt"
   ]
  },
  {
   "cell_type": "code",
   "execution_count": 41,
   "metadata": {},
   "outputs": [],
   "source": [
    "url = \"http://www.espncricinfo.com/scores\"\n",
    "\n",
    "response = requests.get(url)"
   ]
  },
  {
   "cell_type": "code",
   "execution_count": 42,
   "metadata": {},
   "outputs": [],
   "source": [
    "soup = BeautifulSoup(response.text, 'html.parser')"
   ]
  },
  {
   "cell_type": "code",
   "execution_count": 43,
   "metadata": {},
   "outputs": [],
   "source": [
    "a =soup.find('div',{'class':'scoreCollection__content cricket'})"
   ]
  },
  {
   "cell_type": "code",
   "execution_count": 44,
   "metadata": {},
   "outputs": [
    {
     "data": {
      "text/plain": [
       "['http://www.espncricinfo.com/series/8039/game/1144483/england-vs-south-africa-1st-match-icc-cricket-world-cup-2019',\n",
       " 'http://www.espncricinfo.com/series/8039/game/1144484/pakistan-vs-west-indies-2nd-match-icc-cricket-world-cup-2019',\n",
       " 'http://www.espncricinfo.com/series/19249/game/1183601/india-a-vs-sri-lanka-a-2nd-unofficial-test-sri-lanka-a-in-india-2019',\n",
       " 'http://www.espncricinfo.com/series/11132/game/1185274/armed-police-force-club-vs-gandaki-province-group-a-prime-minister-cup-2019',\n",
       " 'http://www.espncricinfo.com/series/11132/game/1185273/province-number-1-vs-karnali-province-group-b-prime-minister-cup-2019',\n",
       " 'http://www.espncricinfo.com/series/8052/game/1166927/essex-vs-kent-specsavers-county-championship-division-one-2019',\n",
       " 'http://www.espncricinfo.com/series/8052/game/1166928/warwickshire-vs-surrey-specsavers-county-championship-division-one-2019',\n",
       " 'http://www.espncricinfo.com/series/8052/game/1166929/yorkshire-vs-hampshire-specsavers-county-championship-division-one-2019',\n",
       " 'http://www.espncricinfo.com/series/8204/game/1166985/gloucestershire-vs-lancashire-specsavers-county-championship-division-two-2019',\n",
       " 'http://www.espncricinfo.com/series/8204/game/1166986/leicestershire-vs-derbyshire-specsavers-county-championship-division-two-2019',\n",
       " 'http://www.espncricinfo.com/series/8204/game/1166987/sussex-vs-glamorgan-specsavers-county-championship-division-two-2019',\n",
       " 'http://www.espncricinfo.com/series/8204/game/1166988/worcestershire-vs-middlesex-specsavers-county-championship-division-two-2019']"
      ]
     },
     "execution_count": 44,
     "metadata": {},
     "output_type": "execute_result"
    }
   ],
   "source": [
    "links=[]\n",
    "for link in a.find_all('a'):\n",
    "    if 'http' in link.get('href'):\n",
    "        links.append((link.get('href'))) \n",
    "links        \n",
    "        "
   ]
  },
  {
   "cell_type": "code",
   "execution_count": 50,
   "metadata": {},
   "outputs": [
    {
     "name": "stdout",
     "output_type": "stream",
     "text": [
      "['TP Alsop*', 'RR Rossouw']\n",
      "[3, 54]\n"
     ]
    },
    {
     "data": {
      "image/png": "[encoded data removed]",
      "text/plain": [
       "<Figure size 432x288 with 1 Axes>"
      ]
     },
     "metadata": {},
     "output_type": "display_data"
    },
    {
     "name": "stdout",
     "output_type": "stream",
     "text": [
      "['GH Roderick*', 'CDJ Dent']\n",
      "[10, 30]\n"
     ]
    },
    {
     "data": {
      "image/png": "[encoded data removed]",
      "text/plain": [
       "<Figure size 432x288 with 1 Axes>"
      ]
     },
     "metadata": {},
     "output_type": "display_data"
    },
    {
     "name": "stdout",
     "output_type": "stream",
     "text": [
      "['LWP Wells*', 'HZ Finch']\n",
      "[16, 22]\n"
     ]
    },
    {
     "data": {
      "image/png": "[encoded data removed]",
      "text/plain": [
       "<Figure size 432x288 with 1 Axes>"
      ]
     },
     "metadata": {},
     "output_type": "display_data"
    }
   ],
   "source": [
    "for url in links:\n",
    "        response = requests.get(url)\n",
    "        soup = BeautifulSoup(response.text, 'html.parser')\n",
    "        lis=[]\n",
    "        for i in soup.find('div',{'class':'content'}).strings:\n",
    "            lis.append(i)\n",
    "        try:    \n",
    "            bat=[]    \n",
    "            bat=[(lis[21]),(lis[35])]\n",
    "            run=[]\n",
    "            run=[int(lis[23]),int(lis[37])]\n",
    "            print(bat)\n",
    "            print(run)  \n",
    "            plt.bar(bat,run)\n",
    "            plt.show()\n",
    "        except:\n",
    "            pass"
   ]
  },
  {
   "cell_type": "code",
   "execution_count": null,
   "metadata": {},
   "outputs": [],
   "source": []
  }
 ],
 "metadata": {
  "kernelspec": {
   "display_name": "Python 3",
   "language": "python",
   "name": "python3"
  },
  "language_info": {
   "codemirror_mode": {
    "name": "ipython",
    "version": 3
   },
   "file_extension": ".py",
   "mimetype": "text/x-python",
   "name": "python",
   "nbconvert_exporter": "python",
   "pygments_lexer": "ipython3",
   "version": "3.6.4"
  }
 },
 "nbformat": 4,
 "nbformat_minor": 2
}
