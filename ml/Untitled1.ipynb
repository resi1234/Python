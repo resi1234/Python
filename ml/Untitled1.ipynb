{
 "cells": [
  {
   "cell_type": "code",
   "execution_count": null,
   "metadata": {},
   "outputs": [],
   "source": [
    "import numpy as np\n",
    "#creating single dimen array\n",
    "a=np.array([1,2,3,55,4])\n",
    "print(a)\n",
    "#another\n",
    "b=np.array([44,77,1,88])\n",
    "print(b)\n",
    "#creating 2d array\n",
    "x=np.array([[2,33],[34,56]])\n",
    "print(x)"
   ]
  },
  {
   "cell_type": "code",
   "execution_count": null,
   "metadata": {},
   "outputs": [],
   "source": []
  }
 ],
 "metadata": {
  "kernelspec": {
   "display_name": "Python 3",
   "language": "python",
   "name": "python3"
  }
 },
 "nbformat": 4,
 "nbformat_minor": 2
}
